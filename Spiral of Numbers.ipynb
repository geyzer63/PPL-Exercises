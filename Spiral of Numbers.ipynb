{
  "cells": [
    {
      "metadata": {
        "collapsed": true
      },
      "cell_type": "markdown",
      "source": "# Spiral of Numbers\nThanks to [@Bartłomiej Burek](https://www.facebook.com/bartlomiej.burek?fref=ufi) - who recognized the pattern in this post http://tinyurl.com/y8sdk6l3, the idea of this exercise was conceived.\n\n## The goal of the exercise\n\nCreate a function that receives an integer number and builds a spiral of numbers - up to the provided number, starting to the right and turning counterclockwise - like that\n\n```\n37 36 35 34 33 32 31\n38 17 16 15 14 13 30\n39 18  5  4  3 12 29\n40 19  6  1  2 11 28\n41 20  7  8  9 10 27\n42 21 22 23 24 25 26\n43 44 45 46 47 48 49\n```\nThe function output may be:\n* list of lists \n```\n[[17, 16, 15, 14, 13],\n[18, 5, 4, 3, 12],\n[19, 6, 1, 2, 11, 28],\n[20, 7, 8, 9, 10, 27],\n[21, 22, 23, 24, 25, 26]]\n```\n* \"flattened\" spiral - (5, 4, 3, 6, 1, 2, 7, 8)\n\n* simple string output (as above)\n\n* fancy string output \n```\n5 <- 4 <- 3\n|         ^\nV         |\n6    1 -> 2    11\n|               ^\nV               |\n7 -> 8 -> 9 -> 10\n```\n\nThe test harness for function testing is available at https://repl.it/@volvano63/NumericSpiralTestHarness and below\n\nGood luck! I hope you'll enjoy the challenge\n\n# Collected Solutions\n\nYou may peek - but you will ruin the challenge to yourself!"
    },
    {
      "metadata": {
        "trusted": true
      },
      "cell_type": "code",
      "source": "def Mark_Geyzer_spiral(number, as_matrix=True):\n    spiral_body=[]\n    def _build_spiral_helper(value=1, spiral_step=1, direction='right'):\n        if value > number:\n            return direction in 'upright'\n        advance_to = min(number + 1, value + spiral_step)\n        leap_range = range(value, advance_to)\n        if direction == 'right':\n            spiral_body.append(list(leap_range))\n            direction = 'up'\n        elif direction == 'up':\n            for row, insert_value in zip(reversed(spiral_body), leap_range):\n                row.append(insert_value)\n            direction = 'left'\n            spiral_step += 1\n        elif direction == 'left':\n            spiral_body.insert(0, list(reversed(leap_range)))\n            direction = 'down'\n        elif direction == 'down':\n            for row, insert_value in zip(spiral_body, leap_range):\n                row.insert(0, insert_value)                  \n            direction = 'right'\n            spiral_step += 1\n        return _build_spiral_helper(advance_to, spiral_step, direction)\n    \n    align_left = _build_spiral_helper()\n    if as_matrix:\n        return spiral_body\n    cell_formatter = '{{:>{}}}'.format(len(str(number)))\n    spiral_lines = [' '.join(cell_formatter.format(cell) for cell in row)\n                    for row in spiral_body]\n    if align_left:\n        return '\\n'.join(spiral_lines)\n    max_line_len = max(len(l) for l in spiral_lines)\n    return '\\n'.join('{:>{length}}'.format(l, length=max_line_len) for l in spiral_lines)\n",
      "execution_count": 1,
      "outputs": []
    },
    {
      "metadata": {
        "trusted": true
      },
      "cell_type": "code",
      "source": "import math\ndef Bartlomiej_Burek_spiral(numbers, empty_rows=False, DEBUG=False):\n\n    if DEBUG:\n        print('[DEBUG] numbers:', numbers)\n\n    # size of square matrix (to keep all values)\n    size = math.ceil(math.sqrt(numbers))\n    if DEBUG:\n        print('[DEBUG] matrix size:', size)\n\n    data = [[''] * size for _ in range(size)]\n    #print('data:', data)\n\n    # start positon for value `1` \n    center = math.floor((size-1) / 2)\n    x = center\n    y = (size - 1) - center # flip up-down\n\n    if DEBUG:\n        print('[DEBUG] start:', x, y, '(x,y)') \n\n    # (move_y,move_x) for \"right\", \"up\", \"left\", \"down\"\n    moves = [(0,1), (-1,0), (0,-1), (1,0)]\n    \n    # every move has to be repeated: 1,1,2,2,3,3,4,4,5,5,etc.\n    # so it will be [1,1], later [1,2], later [2,2], later [2,3], etc.\n    repeats = [1, 1]\n\n    # put `1` in matrix in starting position\n    value = 1\n    data[y][x] = value\n\n    # put other values\n    while value < numbers:\n        # get direction from beginning of list\n        move_y, move_x = moves.pop(0)\n        # get how many times to move in this direction - get it from beginning of list\n        repeat = repeats.pop(0)\n        \n        for _ in range(repeat):\n            # get next value\n            value += 1\n            # move to new place\n            y += move_y \n            x += move_x\n            # put value in matrix\n            data[y][x] = value\n            \n            # for some values you have to make less repeates at the end\n            if value >= numbers:\n                break\n                \n        # put repeat+1 at the end of list\n        repeats.append(repeat+1)        \n        # put direction at the end of list\n        moves.append((move_y, move_x))    \n\n    # added later: it removes empty rows. \n    # Code passes test without filter too.\n    # Test needs `list()` to get correct data from `filter()`\n    if not empty_rows:\n        data = list(filter(any, data))\n    \n    return data\n",
      "execution_count": 2,
      "outputs": []
    },
    {
      "metadata": {
        "trusted": true
      },
      "cell_type": "code",
      "source": "def Arthur_Zopellaro_spiral(list_size):\n    from math import floor, sqrt\n\n    values = []\n    max_size = 2    # first line limited to 2 entries\n    position = 0    # 0 bot, 1 right, 2 top, 3 left\n    side_count = 1  # helper to append side values correctly\n    for i in range(1, list_size + 1):\n        current_size = len(values)\n        while current_size == max_size:\n            position = (position + 1) % 4\n            index = floor(sqrt(i - 2))\n            if position in (1, 3):\n                side_count = 1\n                max_size = index * (index + 1)\n                line_length = (2 * floor(sqrt(current_size / 4))) + 1\n            else:\n                max_size = (index ** 2) + (2 * index) + 2\n \n        if position == 0:\n            values.append(i)\n        elif position == 2:\n            values.insert(0, i)\n        elif position == 1:\n            side_position = (line_length + 1) * side_count\n            side_count += 1\n            values.insert(-side_position, i)\n        else:\n            side_position = line_length * side_count\n            side_count += 1\n            values.insert(side_position, i)\n    return values\n",
      "execution_count": 3,
      "outputs": []
    },
    {
      "metadata": {
        "trusted": true
      },
      "cell_type": "code",
      "source": "def ALex_Ho_Spiral(number):\n    dir_dict = {0: [0, -1], 1: [-1, 0], 2: [0, 1], 3: [1, 0]}\n\n    def get_dimen(num):\n        if num < 10:\n            return 3\n        i = 0\n        j = 0\n        while j < num:\n            j = (3 + i ) ** 2\n            i += 2\n        return i+1\n\n    def get_center(dimen):\n        return int((dimen - 1) / 2)\n\n    def turn_left(direction):\n        dir_ = (direction + 1) % 4\n        return dir_\n\n    def move(direction, x, y, matrix, value):\n        dx, dy = dir_dict[direction]\n        x += dx\n        y += dy\n        value += 1\n        matrix[x][y] = value\n        return matrix, x, y, value\n\n    def is_left_empty(direction, x, y, matrix):\n        dir_ = turn_left(direction)\n        dx, dy = dir_dict[dir_]\n        x += dx\n        y += dy\n        return isinstance(matrix[x][y], str)\n\n    def run(num):\n        digits = len(str(num))\n        dimen = get_dimen(num)\n        x = y = get_center(dimen)\n        value = 1\n        direction = 3\n        matrix = [[\"*\" * digits] * dimen for _ in range(dimen)]\n        matrix[x][y] = 1\n        matrix, x, y, value = move(direction, x, y, matrix, value)\n        while value < num:\n            if is_left_empty(direction, x, y, matrix):\n                direction = turn_left(direction)\n                matrix, x, y, value = move(direction, x, y, matrix, value)\n            else:\n                matrix, x, y, value = move(direction, x, y, matrix, value)\n        return matrix\n    return list(zip(*run(number)))\n",
      "execution_count": 4,
      "outputs": []
    },
    {
      "metadata": {
        "trusted": true
      },
      "cell_type": "code",
      "source": "import math\ndef Julie_Deeley_spiral(spiral_size):\n    rows = round(math.sqrt(spiral_size))  # the number of 'rows' or sublists required\n    sub_elements = int(math.ceil(spiral_size/rows))  # the number of elements in each sub-list\n    alist = [['*'for _ in range(sub_elements)] for _ in range(rows)]  # creates placeholder list\n    number = 1  # the number to begin the spiral with\n    move_number = 0  # keeps track of the  number of moves for each direction\n    sub = int(math.floor(rows/2))  # find the correct sublist to put the 1 in.\n    elem = int(math.ceil(sub_elements/2))-1  # find the correct position within the sublist to put the 1\n    alist[sub][elem] = 1  # place the 1\n\n    while True:\n        for direction in range(1, 5):  # 1= right, 2= up, 3= left, 4=down\n            if direction in (1, 3):\n                move_number += 1\n            for number in range(number + 1, number + move_number + 1):\n                if number > spiral_size:\n                    return alist\n                if direction == 1:\n                    elem += 1\n                elif direction == 2:\n                    sub -= 1\n                elif direction == 3:\n                    elem -= 1\n                elif direction == 4:\n                    sub += 1\n                alist[sub][elem] = number\n",
      "execution_count": 5,
      "outputs": []
    },
    {
      "metadata": {
        "trusted": true
      },
      "cell_type": "code",
      "source": "def Julie_Deeley_spiral_on_the_fly(spiral_size):\n    \"\"\" This version doesn't create lists in advance\"\"\"\n    def move_range():\n        return range(number + 1, min(number + move_number + 1, spiral_size + 1))\n\n    number = 1          # start number placed in spiral\n    alist = [[number]]          # start a list\n    move_number = 1     # a move counter, increases for every pair of moves\n    sub = 0             # the sublist index number in list alist\n    \n    while number < spiral_size:       \n        for number in move_range():  # move right\n            alist[sub].append(number)\n\n        for counter, number in enumerate(move_range(), 1):  # move up\n            if counter < move_number:  # if it is time to add a new list\n                sub -= 1\n                alist[sub].append(number)  # add a new element at the rear of existing list\n            else:\n                alist.insert(0, [number])  # otherwise add the new list to the front\n        move_number += 1\n\n        for number in move_range():  # move left\n            alist[sub].insert(0, number)\n\n        for counter, number in enumerate(move_range(), 1):  # move down\n            sub += 1\n            if counter < move_number:  # if it is time to add a new list\n                alist[sub].insert(0, number)  # add it to the start of existing list\n            else:\n                alist.append([number])  # otherwise add a new list to the rear\n        move_number += 1\n    return alist",
      "execution_count": 6,
      "outputs": []
    },
    {
      "metadata": {
        "trusted": true
      },
      "cell_type": "code",
      "source": "import numpy \n\ndef Dany_Rovinsky_spiral(n):\n    arr = numpy.array([[1]])\n    current, rot_counter = 2, 0\n    while current <= n:\n        new_row = [numpy.arange(arr.shape[-1]) + current]\n        arr = numpy.append(arr, new_row, axis=0)\n        arr = numpy.rot90(arr, 3)\n        rot_counter += 1\n        current = arr[-1, 0] + 1\n    rotation_correction = (1 - 3*rot_counter) % 4\n    arr = numpy.rot90(arr, rotation_correction)\n    return list(filter(lambda x: x <= n, arr.flatten()))",
      "execution_count": 7,
      "outputs": []
    },
    {
      "metadata": {
        "trusted": true
      },
      "cell_type": "code",
      "source": "import math\n\ndef Damian_Recoskie_spiral( size ):\n    XPos = math.sqrt( size ) + 0.5\n    YPos = math.ceil( math.sqrt( size ) )\n    \n    out = [ [ 0 ] * int( XPos ) for _ in range( int( YPos ) ) ]\n    \n    XPos = int( XPos / 2 + 0.5 )\n    YPos = int( YPos / 2 )\n    \n    Len = 0\n    PerLen = 0\n    Rotation = 0\n    \n    for val in range( 1, size + 1 ):\n        if Rotation & 1:\n            YPos += 1 if Rotation >> 1 else -1\n        else:\n            XPos += 1 if Rotation >> 1 else -1\n        \n        out[ YPos ][ XPos ] = val\n        \n        if Len == PerLen:\n            Rotation = ( Rotation + 1 ) & 3\n            if Rotation & 1:\n                PerLen += 1\n            Len = 0\n        Len += 1\n    return list(reversed(list(zip(*reversed(out)))))\n",
      "execution_count": 8,
      "outputs": []
    },
    {
      "metadata": {
        "trusted": true
      },
      "cell_type": "code",
      "source": "def ray_ziemelis_spiral(number):\n    from itertools import cycle\n    coordinates = {}\n\n    def coor_gen():\n        n = 1\n        x, y = 0, 0\n        alternator = cycle([1, -1])\n        while True:\n            alt = next(alternator)\n            for _ in range(n):\n                yield (x, y)\n                x += alt\n            for _ in range(n):\n                yield (x, y)\n                y += alt\n            n += 1\n\n    coor = coor_gen()\n    for num in range(1, number + 1):\n        coordinates[num] = next(coor)\n\n    y_grid_max = max(coordinates[y_value][1] for y_value in coordinates)\n    y_grid_min = min(coordinates[y_value][1] for y_value in coordinates)\n\n    coor_slice = {}\n    answer, answer_slice = [], []\n\n    for y in range(y_grid_max, y_grid_min - 1, -1):\n        for plot in coordinates:\n            if coordinates[plot][1] == y:\n                coor_slice[coordinates[plot][0]] = plot\n        for entry in sorted(coor_slice):\n            answer_slice.append(coor_slice[entry])\n        answer.append(answer_slice)\n        coor_slice = {}\n        answer_slice = []\n\n    return answer\n",
      "execution_count": 9,
      "outputs": []
    },
    {
      "metadata": {
        "trusted": true
      },
      "cell_type": "code",
      "source": "",
      "execution_count": null,
      "outputs": []
    },
    {
      "metadata": {
        "trusted": true
      },
      "cell_type": "code",
      "source": "",
      "execution_count": null,
      "outputs": []
    },
    {
      "metadata": {
        "trusted": true
      },
      "cell_type": "code",
      "source": "",
      "execution_count": null,
      "outputs": []
    },
    {
      "metadata": {},
      "cell_type": "markdown",
      "source": "# Test Harness"
    },
    {
      "metadata": {
        "trusted": true
      },
      "cell_type": "code",
      "source": "'''\nThis is a test harness for a numeric spiral builder\nPlace your function(s) here and run the harness\n'''\n\ndef test_funcs(*funcs):\n    import traceback\n    import re\n   \n    tests = (\n        (1,),\n        (1, 2),\n        (4, 3, 1, 2),\n        (5, 4, 3, 6, 1, 2, 7, 8),\n        (37, 36, 35, 34, 33, 32, 31,\n         38, 17, 16, 15, 14, 13, 30,\n         39, 18, 5, 4, 3, 12, 29,\n         40, 19, 6, 1, 2, 11, 28,\n         41, 20, 7, 8, 9, 10, 27,\n         42, 21, 22, 23, 24, 25, 26,\n         43, 44, 45, 46, 47, 48, 49)              \n    )\n    for func in funcs:\n        print(f'\\n\\nTesting function {func.__name__}:\\n')\n        for expected in tests:\n            tested_num = max(expected)\n            result = str(func(tested_num))\n            result = tuple(filter(None, map(int, re.findall(r'\\d+', result))))\n            try:\n                assert result == expected\n            except AssertionError:\n                print(f'FAILED for {tested_num}')\n                print(f' tested: {result}')\n                print(f' expected: {expected}')\n            else:\n                print(f'Passed for {tested_num}: {result}')\n \n \n''' testing functions '''\nif __name__ == '__main__':\n    func_list = [func for name, func in globals().items()\n                 if callable(func) and name[0:2] not in ('__')\n                    and name[0:4] not in ('exit', 'quit', 'get_', 'test')]\n    test_funcs(*func_list)\n",
      "execution_count": 10,
      "outputs": [
        {
          "output_type": "stream",
          "text": "\n\nTesting function Mark_Geyzer_spiral:\n\nPassed for 1: (1,)\nPassed for 2: (1, 2)\nPassed for 4: (4, 3, 1, 2)\nPassed for 8: (5, 4, 3, 6, 1, 2, 7, 8)\nPassed for 49: (37, 36, 35, 34, 33, 32, 31, 38, 17, 16, 15, 14, 13, 30, 39, 18, 5, 4, 3, 12, 29, 40, 19, 6, 1, 2, 11, 28, 41, 20, 7, 8, 9, 10, 27, 42, 21, 22, 23, 24, 25, 26, 43, 44, 45, 46, 47, 48, 49)\n\n\nTesting function Bartlomiej_Burek_spiral:\n\nPassed for 1: (1,)\nPassed for 2: (1, 2)\nPassed for 4: (4, 3, 1, 2)\nPassed for 8: (5, 4, 3, 6, 1, 2, 7, 8)\nPassed for 49: (37, 36, 35, 34, 33, 32, 31, 38, 17, 16, 15, 14, 13, 30, 39, 18, 5, 4, 3, 12, 29, 40, 19, 6, 1, 2, 11, 28, 41, 20, 7, 8, 9, 10, 27, 42, 21, 22, 23, 24, 25, 26, 43, 44, 45, 46, 47, 48, 49)\n\n\nTesting function Arthur_Zopellaro_spiral:\n\nPassed for 1: (1,)\nPassed for 2: (1, 2)\nPassed for 4: (4, 3, 1, 2)\nPassed for 8: (5, 4, 3, 6, 1, 2, 7, 8)\nPassed for 49: (37, 36, 35, 34, 33, 32, 31, 38, 17, 16, 15, 14, 13, 30, 39, 18, 5, 4, 3, 12, 29, 40, 19, 6, 1, 2, 11, 28, 41, 20, 7, 8, 9, 10, 27, 42, 21, 22, 23, 24, 25, 26, 43, 44, 45, 46, 47, 48, 49)\n\n\nTesting function ALex_Ho_Spiral:\n\nFAILED for 1\n tested: (1, 2)\n expected: (1,)\nPassed for 2: (1, 2)\nPassed for 4: (4, 3, 1, 2)\nPassed for 8: (5, 4, 3, 6, 1, 2, 7, 8)\nPassed for 49: (37, 36, 35, 34, 33, 32, 31, 38, 17, 16, 15, 14, 13, 30, 39, 18, 5, 4, 3, 12, 29, 40, 19, 6, 1, 2, 11, 28, 41, 20, 7, 8, 9, 10, 27, 42, 21, 22, 23, 24, 25, 26, 43, 44, 45, 46, 47, 48, 49)\n\n\nTesting function Julie_Deeley_spiral:\n\nPassed for 1: (1,)\nPassed for 2: (1, 2)\nPassed for 4: (4, 3, 1, 2)\nPassed for 8: (5, 4, 3, 6, 1, 2, 7, 8)\nPassed for 49: (37, 36, 35, 34, 33, 32, 31, 38, 17, 16, 15, 14, 13, 30, 39, 18, 5, 4, 3, 12, 29, 40, 19, 6, 1, 2, 11, 28, 41, 20, 7, 8, 9, 10, 27, 42, 21, 22, 23, 24, 25, 26, 43, 44, 45, 46, 47, 48, 49)\n\n\nTesting function Julie_Deeley_spiral_on_the_fly:\n\nPassed for 1: (1,)\nPassed for 2: (1, 2)\nPassed for 4: (4, 3, 1, 2)\nPassed for 8: (5, 4, 3, 6, 1, 2, 7, 8)\nPassed for 49: (37, 36, 35, 34, 33, 32, 31, 38, 17, 16, 15, 14, 13, 30, 39, 18, 5, 4, 3, 12, 29, 40, 19, 6, 1, 2, 11, 28, 41, 20, 7, 8, 9, 10, 27, 42, 21, 22, 23, 24, 25, 26, 43, 44, 45, 46, 47, 48, 49)\n\n\nTesting function Dany_Rovinsky_spiral:\n\nPassed for 1: (1,)\nPassed for 2: (1, 2)\nPassed for 4: (4, 3, 1, 2)\nPassed for 8: (5, 4, 3, 6, 1, 2, 7, 8)\nPassed for 49: (37, 36, 35, 34, 33, 32, 31, 38, 17, 16, 15, 14, 13, 30, 39, 18, 5, 4, 3, 12, 29, 40, 19, 6, 1, 2, 11, 28, 41, 20, 7, 8, 9, 10, 27, 42, 21, 22, 23, 24, 25, 26, 43, 44, 45, 46, 47, 48, 49)\n\n\nTesting function Damian_Recoskie_spiral:\n\nPassed for 1: (1,)\nPassed for 2: (1, 2)\nPassed for 4: (4, 3, 1, 2)\nPassed for 8: (5, 4, 3, 6, 1, 2, 7, 8)\nPassed for 49: (37, 36, 35, 34, 33, 32, 31, 38, 17, 16, 15, 14, 13, 30, 39, 18, 5, 4, 3, 12, 29, 40, 19, 6, 1, 2, 11, 28, 41, 20, 7, 8, 9, 10, 27, 42, 21, 22, 23, 24, 25, 26, 43, 44, 45, 46, 47, 48, 49)\n\n\nTesting function ray_ziemelis_spiral:\n\nPassed for 1: (1,)\nPassed for 2: (1, 2)\nPassed for 4: (4, 3, 1, 2)\nPassed for 8: (5, 4, 3, 6, 1, 2, 7, 8)\nPassed for 49: (37, 36, 35, 34, 33, 32, 31, 38, 17, 16, 15, 14, 13, 30, 39, 18, 5, 4, 3, 12, 29, 40, 19, 6, 1, 2, 11, 28, 41, 20, 7, 8, 9, 10, 27, 42, 21, 22, 23, 24, 25, 26, 43, 44, 45, 46, 47, 48, 49)\n",
          "name": "stdout"
        }
      ]
    },
    {
      "metadata": {
        "trusted": true
      },
      "cell_type": "code",
      "source": "",
      "execution_count": null,
      "outputs": []
    }
  ],
  "metadata": {
    "kernelspec": {
      "name": "python36",
      "display_name": "Python 3.6",
      "language": "python"
    },
    "language_info": {
      "mimetype": "text/x-python",
      "nbconvert_exporter": "python",
      "name": "python",
      "pygments_lexer": "ipython3",
      "version": "3.6.6",
      "file_extension": ".py",
      "codemirror_mode": {
        "version": 3,
        "name": "ipython"
      }
    }
  },
  "nbformat": 4,
  "nbformat_minor": 2
}