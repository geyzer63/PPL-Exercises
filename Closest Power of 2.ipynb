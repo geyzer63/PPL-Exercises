{
  "cells": [
    {
      "metadata": {
        "collapsed": true
      },
      "cell_type": "markdown",
      "source": "# Closest Power of 2\n## The goal of the exercise\nCreate a function that for a given integer number will provide the closes power of 2, so that it will yield the following results:\n* for 7 - 8\n* for 19 - 16\n* for 25 - 32\n\netc, see Test Harness below"
    },
    {
      "metadata": {},
      "cell_type": "markdown",
      "source": "# Test Harness"
    },
    {
      "metadata": {
        "trusted": true
      },
      "cell_type": "code",
      "source": "'''\nThis is a test harness for a Closest Power of 2 solution\nPlace your function(s) here and run the harness\n'''\n\ndef test_funcs(*funcs):\n   \n    tests = {\n        7: 8, \n        19: 16,\n        25: 32,\n        41: 32,\n        49: 64\n    }\n    for func in funcs:\n        print(f'\\n\\nTesting function {func.__name__}:\\n')\n        for tested_num, expected in tests.items():\n            result = func(tested_num)\n            try:\n                assert result == expected\n            except AssertionError:\n                print(f'FAILED for {tested_num}')\n                print(f' tested: {result}')\n                print(f' expected: {expected}')\n            else:\n                print(f'Passed for {tested_num}: {result}')\n \n \n''' testing functions '''\nif __name__ == '__main__':\n    from timeit import timeit as __timeit\n    from operator import itemgetter as __itemgetter\n    def __convert_time(run_time):\n        for unit in ('s', 'ms', 'us', 'ns'):\n            if run_time > 1:\n                break\n            run_time *= 1000\n        return run_time, unit\n\n    func_names, func_list = list(zip(*((name, func) for name, func in globals().items()\n                                        if callable(func) and name[0:2] not in ('__')\n                                        and name[0:4] not in ('exit', 'quit', 'get_', 'test'))))\n    test_funcs(*func_list)\n",
      "execution_count": 24,
      "outputs": [
        {
          "output_type": "stream",
          "text": "\n\nTesting function mark_geyzer_closest_pow2_take2:\n\nPassed for 7: 8\nPassed for 19: 16\nPassed for 25: 32\nPassed for 41: 32\nPassed for 49: 64\n\n\nTesting function bzimmon_closest_power:\n\nPassed for 7: 8\nPassed for 19: 16\nPassed for 25: 32\nPassed for 41: 32\nPassed for 49: 64\n\n\nTesting function scott_lavoie_closest_pow2:\n\nPassed for 7: 8\nPassed for 19: 16\nPassed for 25: 32\nPassed for 41: 32\nPassed for 49: 64\n\n\nTesting function rares_dima_closest_pow2r_take1:\n\nPassed for 7: 8\nPassed for 19: 16\nPassed for 25: 32\nPassed for 41: 32\nPassed for 49: 64\n\n\nTesting function rares_dima_closest_pow2_take2:\n\nPassed for 7: 8\nPassed for 19: 16\nPassed for 25: 32\nPassed for 41: 32\nPassed for 49: 64\n\n\nTesting function alex_ho_closest_pow2:\n\nPassed for 7: 8\nPassed for 19: 16\nPassed for 25: 32\nPassed for 41: 32\nPassed for 49: 64\n\n\nTesting function mark_geyzer_closest_pow2:\n\nPassed for 7: 8\nPassed for 19: 16\nPassed for 25: 32\nPassed for 41: 32\nPassed for 49: 64\n\n\nTesting function ray_ziemelis_closest_pow2:\n\nPassed for 7: 8\nPassed for 19: 16\nPassed for 25: 32\nPassed for 41: 32\nPassed for 49: 64\n\n\nTesting function maurizio_coppari_closest_pow2:\n\nPassed for 7: 8\nPassed for 19: 16\nPassed for 25: 32\nFAILED for 41\n tested: 64\n expected: 32\nFAILED for 49\n tested: 128\n expected: 64\n\n\nTesting function norbert_incze_closest_pow2:\n\nPassed for 7: 8\nPassed for 19: 16.0\nPassed for 25: 32\nPassed for 41: 32.0\nPassed for 49: 64\n\n\nTesting function simonas_trepochka_closest_pow2:\n\nPassed for 7: 8\nPassed for 19: 16\nPassed for 25: 32\nPassed for 41: 32\nPassed for 49: 64\n\n\nTesting function simonas_trepochka__closest_pow2_nomath:\n\nPassed for 7: 8\nPassed for 19: 16\nPassed for 25: 32\nPassed for 41: 32\nPassed for 49: 64\n\n\nTesting function prasad_closest_pow2:\n\nPassed for 7: 8\nPassed for 19: 16\nPassed for 25: 32\nPassed for 41: 32\nPassed for 49: 64\n\n\nTesting function Nikolaos_Konstantopoulos_closest_pow2:\n\nPassed for 7: 8.0\nPassed for 19: 16.0\nPassed for 25: 32.0\nPassed for 41: 32.0\nPassed for 49: 64.0\n\n\nTesting function joseph_orost_closest_pow2:\n\nPassed for 7: 8\nPassed for 19: 16\nPassed for 25: 32\nPassed for 41: 32\nPassed for 49: 64\n\n\nTesting function john_bowers_closest_pow2:\n\nPassed for 7: 8\nPassed for 19: 16\nPassed for 25: 32\nPassed for 41: 32\nPassed for 49: 64\n\n\nTesting function maurizzio_coppari_closest_pow2_nomath:\n\nPassed for 7: 8\nPassed for 19: 16\nPassed for 25: 32\nPassed for 41: 32\nPassed for 49: 64\n\n\nTesting function fridrik_juliusson_closest_pow2:\n\nPassed for 7: 8\nPassed for 19: 16\nPassed for 25: 32\nPassed for 41: 32\nPassed for 49: 64\n",
          "name": "stdout"
        }
      ]
    },
    {
      "metadata": {
        "trusted": true
      },
      "cell_type": "code",
      "source": "stats = sorted(((func_name, __timeit(f'{func_name}(19651)', f'from __main__ import {func_name}', number=1000))\n                for func_name in func_names),\n               key = __itemgetter(1))\nfor func_name, run_time in stats:\n    run_time, unit = __convert_time(run_time / 1000)\n    print(f'{func_name:.<40} - {run_time:.2f} {unit}')",
      "execution_count": 25,
      "outputs": [
        {
          "output_type": "stream",
          "text": "john_bowers_closest_pow2................ - 870.70 ns\nsimonas_trepochka_closest_pow2.......... - 952.60 ns\njoseph_orost_closest_pow2............... - 1.04 us\nNikolaos_Konstantopoulos_closest_pow2... - 1.97 us\nnorbert_incze_closest_pow2.............. - 2.00 us\nmaurizio_coppari_closest_pow2........... - 2.61 us\nmark_geyzer_closest_pow2................ - 2.73 us\nmark_geyzer_closest_pow2_take2.......... - 2.82 us\nfridrik_juliusson_closest_pow2.......... - 2.89 us\nscott_lavoie_closest_pow2............... - 3.02 us\nrares_dima_closest_pow2r_take1.......... - 5.04 us\nprasad_closest_pow2..................... - 5.68 us\nsimonas_trepochka__closest_pow2_nomath.. - 6.13 us\nbzimmon_closest_power................... - 7.72 us\nalex_ho_closest_pow2.................... - 9.95 us\nrares_dima_closest_pow2_take2........... - 59.08 us\nray_ziemelis_closest_pow2............... - 2.43 ms\nmaurizzio_coppari_closest_pow2_nomath... - 43.84 ms\n",
          "name": "stdout"
        }
      ]
    },
    {
      "metadata": {
        "trusted": true
      },
      "cell_type": "code",
      "source": "",
      "execution_count": null,
      "outputs": []
    },
    {
      "metadata": {},
      "cell_type": "markdown",
      "source": "# Solutions (don't peek)"
    },
    {
      "metadata": {
        "trusted": true
      },
      "cell_type": "code",
      "source": "def bzimmon_closest_power(number):\n    iterator = number\n    power = 0\n    while iterator >2:\n        iterator = iterator//2\n        power = power +1\n    if (number - 2**power) > (number - 2**(power+1)):\n        return 2**(power+1)\n    else:\n        return 2**power",
      "execution_count": 3,
      "outputs": []
    },
    {
      "metadata": {
        "trusted": true
      },
      "cell_type": "code",
      "source": "def scott_lavoie_closest_pow2(in_num):\n    from math import log\n    return 2**round(log(in_num)/log(2))",
      "execution_count": 4,
      "outputs": []
    },
    {
      "metadata": {
        "trusted": true
      },
      "cell_type": "code",
      "source": "def rares_dima_closest_pow2r_take1(x):\n    from math import log2, floor, ceil\n    return 2 ** min(floor(log2(x)), ceil(log2(x)), key=lambda log: abs(2**log - x))",
      "execution_count": 5,
      "outputs": []
    },
    {
      "metadata": {
        "trusted": true
      },
      "cell_type": "code",
      "source": "def rares_dima_closest_pow2_take2(x):\n    p = next(2**pwr for pwr in range(int(x**0.5)+1, -1, -1) if 2**pwr <= x)\n    return min(p, p*2, key = lambda pwr: abs(x - pwr))\n",
      "execution_count": 6,
      "outputs": []
    },
    {
      "metadata": {
        "trusted": true
      },
      "cell_type": "code",
      "source": "def alex_ho_closest_pow2(input_int):\n    i=1\n    while True:\n        j1 = 2 ** i\n        j2 = 2 ** (i + 1)\n        if input_int >= j1 and input_int <= j2:\n            if j2 - input_int < input_int - j1:\n                return j2\n            else:\n                return j1\n        i += 1\n",
      "execution_count": 7,
      "outputs": []
    },
    {
      "metadata": {
        "trusted": true
      },
      "cell_type": "code",
      "source": "def mark_geyzer_closest_pow2(num):\n    approx_pow = len(bin(num)) - 2\n    return min((2 ** p for p in (approx_pow -1, approx_pow)), key=lambda v: abs(num - v))\n",
      "execution_count": 8,
      "outputs": []
    },
    {
      "metadata": {
        "trusted": true
      },
      "cell_type": "code",
      "source": "def ray_ziemelis_closest_pow2(num):\n    power = 1\n    last = 0\n    gap = []\n    while num not in gap:\n        gap = [i for i in range(last, 2**power + 1)]\n        last = gap[-1]\n        power += 1\n    if len(gap) - gap.index(num) > len(gap) / 2:\n        return gap[0]\n    else:\n        return gap[-1]\n",
      "execution_count": 9,
      "outputs": []
    },
    {
      "metadata": {
        "trusted": true
      },
      "cell_type": "code",
      "source": "def maurizio_coppari_closest_pow2(n):\n    import math\n\n    temp = math.sqrt(n)\n    if temp == int(temp):\n        return 2**int(temp)\n    else:\n        if abs(n-(2**int(temp))) < abs(n-(2**(int(temp)+1))):\n            return 2**int(temp)\n        else:\n            return 2**(int(temp)+1)\n",
      "execution_count": 10,
      "outputs": []
    },
    {
      "metadata": {
        "trusted": true
      },
      "cell_type": "code",
      "source": "def norbert_incze_closest_pow2(number):\n    def get_modulus(number):\n        if number < 0:\n            return -number\n        else:\n            return number\n\n    power_of_two = 1\n    while power_of_two <= number:\n        power_of_two *= 2\n    before_power_of_two = power_of_two / 2\n    if number < 1 or power_of_two - number < get_modulus(before_power_of_two - number):\n        return power_of_two\n    else:\n        return before_power_of_two\n",
      "execution_count": 11,
      "outputs": []
    },
    {
      "metadata": {
        "trusted": true
      },
      "cell_type": "code",
      "source": "def simonas_trepochka_closest_pow2(number):\n    import math\n\n    return 2**round(math.log(number, 2))",
      "execution_count": 12,
      "outputs": []
    },
    {
      "metadata": {
        "trusted": true
      },
      "cell_type": "code",
      "source": "def simonas_trepochka__closest_pow2_nomath(number):\n    power = 1\n    while 2**power < number:\n        power += 1\n    if abs(number - 2**power) < abs(number - 2**(power-1)):\n        return 2**power\n    return 2**(power-1)",
      "execution_count": 13,
      "outputs": []
    },
    {
      "metadata": {
        "trusted": true
      },
      "cell_type": "code",
      "source": "def prasad_closest_pow2(n):\n    if n <= 1:\n        return (1)\n \n    power = 0\n    while 2 ** power < n:\n        power = power + 1\n               \n    if (2 ** power - n) < (n - 2 **(power - 1)):\n        return 2**power\n    else:\n        return 2**(power - 1)\n",
      "execution_count": 14,
      "outputs": []
    },
    {
      "metadata": {
        "trusted": true
      },
      "cell_type": "code",
      "source": "def Nikolaos_Konstantopoulos_closest_pow2(mynum):\n    import math\n    small_num = math.pow(2,math.floor(math.log2(mynum)))\n    big_num   = math.pow(2,math.ceil(math.log2(mynum)))\n    if mynum >= small_num * 1.5:\n        return big_num\n    else:\n        return small_num\n",
      "execution_count": 15,
      "outputs": []
    },
    {
      "metadata": {
        "trusted": true
      },
      "cell_type": "code",
      "source": "def joseph_orost_closest_pow2(num):\n    n = num-1 if num > 0 else 0\n    i = 1\n    while True:\n        m = n >> i\n        if not m:\n            break\n        n |= m\n        i <<= 1\n \n    result = n+1\n    return result if (result-num) < (num-(result>>1)) else (result>>1)\n",
      "execution_count": 16,
      "outputs": []
    },
    {
      "metadata": {
        "trusted": true
      },
      "cell_type": "code",
      "source": "def john_bowers_closest_pow2(n):\n    def nxtpow(n):\n        n -= 1\n        n |= n >> 1\n        n |= n >> 2\n        n |= n >> 4\n        n |= n >> 8\n        n |= n >> 16\n        n += 1\n        return n\n\n    if n<1:\n        return n\n \n    nxt = nxtpow(n)\n    prv = nxt//2\n\n    if n-prv <= nxt-n:\n        return prv\n    else:\n        return nxt\n",
      "execution_count": 17,
      "outputs": []
    },
    {
      "metadata": {
        "trusted": true
      },
      "cell_type": "code",
      "source": "def maurizzio_coppari_closest_pow2_nomath(n):\n    def is_power_of_2(n):\n        for i in range(1,n):\n            res = 2**i\n            if res == n: return True\n            if res > n: return False\n            \n    if n<0: return 0\n    if isinstance(n, float):\n        if n-int(n) >= 0.5:\n            upper = round(n)-1\n            lower = round(n)\n        else:\n            upper = int(n)\n            lower = int(n)+1\n    else:\n        if is_power_of_2(n): return n\n        upper = n\n        lower = n\n    while True:\n        upper += 1\n        lower -= 1\n        upper_verified = is_power_of_2(upper)\n        lower_verified = is_power_of_2(lower)\n        if upper_verified and lower_verified:\n            return lower, upper\n        elif upper_verified:\n            return upper\n        elif lower_verified:\n            return lower\n        else:\n            continue\n",
      "execution_count": 18,
      "outputs": []
    },
    {
      "metadata": {
        "trusted": true
      },
      "cell_type": "code",
      "source": "def fridrik_juliusson_closest_pow2(number):\n    if number < 0:\n        return 0\n    if number < 1:\n        return 1\n    counter = 0\n    remainder = number\n    while remainder > 2:\n        counter += 1\n        remainder = remainder / 2\n    if abs(2 ** counter - number) > abs(2 ** (counter + 1) - number):\n        counter += 1\n    return 2 ** counter\n",
      "execution_count": 19,
      "outputs": []
    },
    {
      "metadata": {
        "trusted": true
      },
      "cell_type": "code",
      "source": "def mark_geyzer_closest_pow2_take2(num):\n    bit_size = 0\n    temp = num\n    while temp:\n        temp = temp >> 1\n        bit_size += 1\n    lower = 1 << (bit_size - 1)\n    upper = lower << 1\n    return lower if num - lower <= upper - num else upper\n",
      "execution_count": 23,
      "outputs": []
    },
    {
      "metadata": {
        "trusted": true
      },
      "cell_type": "code",
      "source": "",
      "execution_count": null,
      "outputs": []
    },
    {
      "metadata": {
        "trusted": true
      },
      "cell_type": "code",
      "source": "",
      "execution_count": null,
      "outputs": []
    },
    {
      "metadata": {
        "trusted": true
      },
      "cell_type": "code",
      "source": "",
      "execution_count": null,
      "outputs": []
    }
  ],
  "metadata": {
    "kernelspec": {
      "name": "python36",
      "display_name": "Python 3.6",
      "language": "python"
    },
    "language_info": {
      "mimetype": "text/x-python",
      "nbconvert_exporter": "python",
      "name": "python",
      "pygments_lexer": "ipython3",
      "version": "3.6.6",
      "file_extension": ".py",
      "codemirror_mode": {
        "version": 3,
        "name": "ipython"
      }
    }
  },
  "nbformat": 4,
  "nbformat_minor": 2
}